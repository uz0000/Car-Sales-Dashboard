{
 "cells": [
  {
   "cell_type": "code",
   "execution_count": 1,
   "metadata": {},
   "outputs": [],
   "source": [
    "import pandas as pd\n",
    "import streamlit\n",
    "import altair\n",
    "import plotly.express as px"
   ]
  },
  {
   "cell_type": "code",
   "execution_count": 4,
   "metadata": {},
   "outputs": [
    {
     "name": "stdout",
     "output_type": "stream",
     "text": [
      "       price  model_year                model  condition  cylinders    fuel  \\\n",
      "17869  59900      1964.0   chevrolet corvette   like new        NaN     gas   \n",
      "40729   4700      2013.0      chevrolet cruze       good        6.0     gas   \n",
      "48962  40000      2014.0             ram 3500  excellent        NaN  diesel   \n",
      "14245   6000      1996.0             ram 2500       good       10.0     gas   \n",
      "2840   18500      2014.0        ford explorer  excellent        6.0     gas   \n",
      "...      ...         ...                  ...        ...        ...     ...   \n",
      "51498  15900      2011.0      gmc sierra 1500  excellent        8.0     gas   \n",
      "51507  29500      2012.0        toyota tundra       good        8.0     gas   \n",
      "51516   8999      2011.0  jeep grand cherokee       good        6.0     gas   \n",
      "51519  11750      2015.0         honda accord  excellent        4.0     gas   \n",
      "51524   6300      2014.0        nissan altima       good        4.0     gas   \n",
      "\n",
      "       odometer transmission         type paint_color  is_4wd date_posted  \\\n",
      "17869  990000.0    automatic  convertible         red     NaN  2018-06-17   \n",
      "40729  990000.0    automatic        sedan       black     NaN  2018-05-02   \n",
      "48962  980000.0    automatic        truck       white     1.0  2018-12-06   \n",
      "14245  920000.0    automatic        truck        blue     NaN  2019-02-02   \n",
      "2840   866000.0    automatic          SUV       black     1.0  2018-07-20   \n",
      "...         ...          ...          ...         ...     ...         ...   \n",
      "51498       NaN    automatic        truck         NaN     1.0  2019-01-25   \n",
      "51507       NaN    automatic       pickup        grey     1.0  2018-05-01   \n",
      "51516       NaN    automatic          SUV       white     1.0  2018-11-01   \n",
      "51519       NaN    automatic        coupe         NaN     NaN  2018-11-24   \n",
      "51524       NaN    automatic        sedan         NaN     NaN  2018-06-05   \n",
      "\n",
      "       days_listed  \n",
      "17869           28  \n",
      "40729            4  \n",
      "48962            7  \n",
      "14245           43  \n",
      "2840            14  \n",
      "...            ...  \n",
      "51498           69  \n",
      "51507           31  \n",
      "51516           51  \n",
      "51519           89  \n",
      "51524           10  \n",
      "\n",
      "[51525 rows x 13 columns]\n"
     ]
    }
   ],
   "source": [
    "vehicles = pd.read_csv('vehicles_us.csv')\n",
    "\n",
    "print(vehicles.sort_values(by='odometer',ascending=False))"
   ]
  },
  {
   "cell_type": "code",
   "execution_count": null,
   "metadata": {},
   "outputs": [],
   "source": []
  }
 ],
 "metadata": {
  "kernelspec": {
   "display_name": "base",
   "language": "python",
   "name": "python3"
  },
  "language_info": {
   "codemirror_mode": {
    "name": "ipython",
    "version": 3
   },
   "file_extension": ".py",
   "mimetype": "text/x-python",
   "name": "python",
   "nbconvert_exporter": "python",
   "pygments_lexer": "ipython3",
   "version": "3.11.7"
  }
 },
 "nbformat": 4,
 "nbformat_minor": 2
}
